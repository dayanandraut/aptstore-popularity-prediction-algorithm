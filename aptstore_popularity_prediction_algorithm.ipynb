{
 "cells": [
  {
   "cell_type": "markdown",
   "metadata": {},
   "source": [
    "# APTSTORE : POPULARITY PREDICTION ALGORITHM (PPA)"
   ]
  },
  {
   "cell_type": "markdown",
   "metadata": {},
   "source": [
    "#### This algorithm is proposed in the following paper. I, Dayanand Raut (IIT Roorkee [Mtech 2020-2022]), have implemented it in python and simulated the data to run the algorithm and display its result.\n",
    "\n",
    "###### K. R. Krish, A. Khasymski, A. R. Butt, S. Tiwari and M. Bhandarkar, \"AptStore: Dynamic storage management for hadoop,\" 2013 IEEE International Conference on Cluster Computing (CLUSTER), 2013, pp. 1-5, doi: 10.1109/CLUSTER.2013.6702657.\n"
   ]
  },
  {
   "cell_type": "markdown",
   "metadata": {},
   "source": [
    "### Import libraries such as pandas, matlibplot and random"
   ]
  },
  {
   "cell_type": "code",
   "execution_count": 97,
   "metadata": {},
   "outputs": [],
   "source": [
    "import pandas as pd\n",
    "import matplotlib.pyplot as plot\n",
    "import random as rd"
   ]
  },
  {
   "cell_type": "markdown",
   "metadata": {},
   "source": [
    "### Implementation of PPA"
   ]
  },
  {
   "cell_type": "code",
   "execution_count": 98,
   "metadata": {},
   "outputs": [],
   "source": [
    "def predict_popularity(accessed_files, deleted_files, popularity,block_numbers, l, c, s, Pmin, Pmax):\n",
    "    P = {}\n",
    "    IP = 0\n",
    "    Pred = {}\n",
    "    avg_popularity = find_average_popularity(popularity)\n",
    "    for f in set(accessed_files):\n",
    "        P[f] = [0]\n",
    "        \n",
    "    for k in range(0, len(accessed_files)-1):\n",
    "        f = accessed_files[k]\n",
    "        i = len(P[f])-1\n",
    "        \n",
    "        if(i==0):\n",
    "            P[f].append(avg_popularity)\n",
    "            continue\n",
    "        \n",
    "        else:\n",
    "            a = find_access_interval(f,k,accessed_files)\n",
    "            b = find_block_numbers(f, block_numbers)\n",
    "            calc = P[f][i] + c / (a*b*l*P[f][i])\n",
    "            P[f].append(calc)\n",
    "            \n",
    "        if(P[f][i]<Pmin):\n",
    "            P[f][i] = Pmin \n",
    "                    \n",
    "        if(P[f][i]>Pmax):           \n",
    "            P[f][i] = Pmax \n",
    "        \n",
    "        IP = IP + P[f][i+1] - P[f][i]\n",
    "                \n",
    "    for f in deleted_files:\n",
    "        #avg = find_average_popularity(popularity)\n",
    "        IP = IP + avg_popularity - popularity[f]\n",
    "        del P[f]\n",
    "        del popularity[f]\n",
    "        del block_numbers[f]\n",
    "        \n",
    "    MIP = IP / len(P)\n",
    " \n",
    "    for f in P:\n",
    "        i = len(P[f]) - 1\n",
    "        P[f][i] = P[f][i] - MIP/s\n",
    "        Pred[f] = P[f][i] + popularity[f]\n",
    "        popularity[f] = P[f][i]          \n",
    "        \n",
    "    \n",
    "    return Pred\n",
    " \n",
    "#--------------------------HELPER FUNCTIONS-----------------------------        \n",
    "def find_average_popularity(popularity):\n",
    "    sum = 0\n",
    "    for f in popularity:\n",
    "        sum = sum + popularity[f]\n",
    "        \n",
    "    return sum/len(popularity)\n",
    "\n",
    "\n",
    "def find_access_interval(f,k,files):\n",
    "    key = accessed_files[k]\n",
    "    k -= 1\n",
    "    count  =  1\n",
    "    while(k>=0):\n",
    "        if(key==files[k]):\n",
    "            break\n",
    "        k -= 1\n",
    "        count += 1\n",
    "        \n",
    "    return count * 10\n",
    "\n",
    "def find_block_numbers(f, block_number):\n",
    "    return block_number[f]"
   ]
  },
  {
   "cell_type": "markdown",
   "metadata": {},
   "source": [
    "### Simulation Functions"
   ]
  },
  {
   "cell_type": "code",
   "execution_count": 99,
   "metadata": {},
   "outputs": [],
   "source": [
    "def simulate_popularity(accessed_files, Pmin, Pmax):\n",
    "    p = {}\n",
    "    for f in set(accessed_files):\n",
    "        p[f] = rd.uniform(Pmin, Pmax)\n",
    "        \n",
    "    return p\n",
    "        \n",
    "        \n",
    "def simulate_block_number(accessed_files, Bmin, Bmax):\n",
    "    b = {}\n",
    "    for f in set(accessed_files):\n",
    "        b[f] = rd.randint(Bmin, Bmax)\n",
    "        \n",
    "    return b\n",
    "\n",
    "def simulate_deleted_files(accessed_files):\n",
    "    deleted = set()\n",
    "    files = list(set(accessed_files))\n",
    "    n = rd.randint(1, int(len(files)/3) + 1)\n",
    "    for i in range(0, n):\n",
    "        x = rd.choice(files)\n",
    "        deleted.add(x)\n",
    "        \n",
    "    return deleted  \n",
    "\n",
    "def simulate_accessed_files(number_of_files): \n",
    "    accessed_files = []\n",
    "    n = rd.randint(number_of_files+5, 2 * number_of_files)\n",
    "    for i in range(0, n):\n",
    "        accessed_files.append(rd.randint(1, number_of_files))\n",
    "        \n",
    "    return accessed_files"
   ]
  },
  {
   "cell_type": "markdown",
   "metadata": {},
   "source": [
    "### Printing functions"
   ]
  },
  {
   "cell_type": "code",
   "execution_count": 105,
   "metadata": {},
   "outputs": [],
   "source": [
    "def print_popularity(popularity, block_numbers):\n",
    "    print(\"Files \\t\\t Popularity \\t Number_of_blocks\")\n",
    "    print(\"-----------------------------------------------\")\n",
    "    for f in popularity:\n",
    "        print(\"file\", f, \":\\t\", round(popularity[f],3),\"\\t\\t\", block_numbers[f] )\n",
    "        \n",
    "        \n",
    "def print_predicted_popularity(pred):\n",
    "    print(\"Files \\t\\t Predicted_Popularity\")\n",
    "    print(\"------------------------------------\")\n",
    "    for f in pred:\n",
    "        print(\"file\", f, \":\\t\", round(pred[f],3))\n",
    "        \n",
    "def count_frequency(accessed_files):\n",
    "    freq = {}\n",
    "    for f in accessed_files:\n",
    "        if f not in freq:\n",
    "            freq[f] = 1\n",
    "        else:\n",
    "            freq[f] += 1\n",
    "            \n",
    "    return freq"
   ]
  },
  {
   "cell_type": "markdown",
   "metadata": {},
   "source": [
    "## SIMULATION AND VISUALIZATION "
   ]
  },
  {
   "cell_type": "code",
   "execution_count": 126,
   "metadata": {},
   "outputs": [
    {
     "name": "stdout",
     "output_type": "stream",
     "text": [
      "Accessing files:  [8, 3, 8, 5, 6, 8, 5, 4, 9, 7, 5, 4, 4, 1, 8, 7, 2]\n",
      "Deleting files:  [2, 6]\n",
      "\n",
      "\n",
      "   Files  Initial_Popularity  Block_numbers  Frequency  Predicted_Popularity\n",
      "0      1               0.465             47          1             -0.699146\n",
      "1      2               0.874             45          1                   NaN\n",
      "2      3               0.294             22          1             -0.870283\n",
      "3      4               0.210              4          3             14.066784\n",
      "4      5               0.900             30          3              2.365740\n",
      "5      6               0.314             49          1                   NaN\n",
      "6      7               0.627             10          2              2.919645\n",
      "7      8               0.363             13          4              7.618028\n",
      "8      9               0.773              5          1             -0.391488\n"
     ]
    },
    {
     "data": {
      "image/png": "[encoded data removed]",
      "text/plain": [
       "<Figure size 432x288 with 1 Axes>"
      ]
     },
     "metadata": {
      "needs_background": "light"
     },
     "output_type": "display_data"
    },
    {
     "data": {
      "image/png": "[encoded data removed]",
      "text/plain": [
       "<Figure size 432x288 with 1 Axes>"
      ]
     },
     "metadata": {
      "needs_background": "light"
     },
     "output_type": "display_data"
    },
    {
     "data": {
      "image/png": "[encoded data removed]",
      "text/plain": [
       "<Figure size 432x288 with 1 Axes>"
      ]
     },
     "metadata": {
      "needs_background": "light"
     },
     "output_type": "display_data"
    },
    {
     "name": "stdout",
     "output_type": "stream",
     "text": [
      "   File  Predicted_Popularity\n",
      "0     1                -0.699\n",
      "1     3                -0.870\n",
      "2     4                14.067\n",
      "3     5                 2.366\n",
      "4     7                 2.920\n",
      "5     8                 7.618\n",
      "6     9                -0.391\n"
     ]
    },
    {
     "data": {
      "image/png": "[encoded data removed]",
      "text/plain": [
       "<Figure size 432x288 with 1 Axes>"
      ]
     },
     "metadata": {
      "needs_background": "light"
     },
     "output_type": "display_data"
    }
   ],
   "source": [
    "Pmin = 0.1\n",
    "Pmax = 0.9\n",
    "accessed_files = simulate_accessed_files(9)\n",
    "popularity = simulate_popularity(accessed_files, Pmin, Pmax)\n",
    "Bmin = 1\n",
    "Bmax = 50\n",
    "block_numbers = simulate_block_number(accessed_files, Bmin, Bmax)\n",
    "c = 10000\n",
    "l = 9\n",
    "s = 5\n",
    "frequency = count_frequency(accessed_files)\n",
    "popularity_data = [[k,round(popularity[k],3), block_numbers[k], frequency[k]] for k in popularity ]\n",
    "\n",
    "#print_popularity(popularity, block_numbers)\n",
    "#print(popularity_data)\n",
    "\n",
    "# Showing the simulated result in graph\n",
    "# Bar graph of popularity\n",
    "print(\"Accessing files: \", accessed_files)\n",
    "deleted_files = list(simulate_deleted_files(accessed_files))\n",
    "print(\"Deleting files: \", deleted_files)\n",
    "print()\n",
    "\n",
    "# predict the popularity\n",
    "pred = predict_popularity(accessed_files, deleted_files, popularity,block_numbers, l, c, s, Pmin, Pmax)\n",
    "print()\n",
    "#print_predicted_popularity(pred)\n",
    "\n",
    "for x in popularity_data:\n",
    "    f = x[0]\n",
    "    if f in pred:\n",
    "        x.append(pred[f])\n",
    "    else:\n",
    "        x.append(None)\n",
    "\n",
    "        \n",
    "popularity_df = pd.DataFrame(popularity_data, columns = ['Files', 'Initial_Popularity', 'Block_numbers', 'Frequency', 'Predicted_Popularity'])\n",
    "\n",
    "print(popularity_df)\n",
    "popularity_df.plot.bar(x=\"Files\", y=\"Initial_Popularity\", color='#FFC300', rot=70, title=\"Popularity of Files\");\n",
    "plot.show(block=True)\n",
    "\n",
    "#Bar Graph of block numbers\n",
    "popularity_df.plot.bar(x=\"Files\", y=\"Block_numbers\", color='#581845', rot=70, title=\"Number of blocks of file\");\n",
    "plot.show(block=True)\n",
    "\n",
    "#Bar Graph of block numbers\n",
    "popularity_df.plot.bar(x=\"Files\", y=\"Frequency\", color='#FF5733', rot=70, title=\"Frequency of access\");\n",
    "plot.show(block=True)\n",
    "\n",
    "        \n",
    "# showing the result in graph\n",
    "predicted_data  = [[k, round(pred[k],3)] for k in pred]\n",
    "predicted_df = pd.DataFrame(predicted_data, columns=['File', 'Predicted_Popularity'])\n",
    "print(predicted_df)\n",
    "predicted_df.plot.barh(x=\"File\", y=\"Predicted_Popularity\", color='g', rot=70, title=\"Predicted Popularity of file\");\n",
    "plot.show(block=True)\n",
    "\n"
   ]
  },
  {
   "cell_type": "code",
   "execution_count": null,
   "metadata": {},
   "outputs": [],
   "source": []
  }
 ],
 "metadata": {
  "kernelspec": {
   "display_name": "Python 3",
   "language": "python",
   "name": "python3"
  },
  "language_info": {
   "codemirror_mode": {
    "name": "ipython",
    "version": 3
   },
   "file_extension": ".py",
   "mimetype": "text/x-python",
   "name": "python",
   "nbconvert_exporter": "python",
   "pygments_lexer": "ipython3",
   "version": "3.8.3"
  }
 },
 "nbformat": 4,
 "nbformat_minor": 4
}
