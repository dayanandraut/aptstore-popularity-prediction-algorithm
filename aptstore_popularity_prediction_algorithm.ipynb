{
 "cells": [
  {
   "cell_type": "markdown",
   "metadata": {},
   "source": [
    "# APTSTORE : POPULARITY PREDICTION ALGORITHM (PPA)"
   ]
  },
  {
   "cell_type": "markdown",
   "metadata": {},
   "source": [
    "#### This algorithm is proposed in the following paper. I, Dayanand Raut (IIT Roorkee [Mtech 2020-2022]), have implemented it in python and simulated the data to run the algorithm and display its result.\n",
    "\n",
    "###### K. R. Krish, A. Khasymski, A. R. Butt, S. Tiwari and M. Bhandarkar, \"AptStore: Dynamic storage management for hadoop,\" 2013 IEEE International Conference on Cluster Computing (CLUSTER), 2013, pp. 1-5, doi: 10.1109/CLUSTER.2013.6702657.\n"
   ]
  },
  {
   "cell_type": "markdown",
   "metadata": {},
   "source": [
    "### Import libraries such as pandas, matlibplot and random"
   ]
  },
  {
   "cell_type": "code",
   "execution_count": 61,
   "metadata": {},
   "outputs": [],
   "source": [
    "import pandas as pd\n",
    "import matplotlib.pyplot as plot\n",
    "import random as rd"
   ]
  },
  {
   "cell_type": "markdown",
   "metadata": {},
   "source": [
    "### Implementation of PPA"
   ]
  },
  {
   "cell_type": "code",
   "execution_count": 62,
   "metadata": {},
   "outputs": [],
   "source": [
    "def predict_popularity(accessed_files, deleted_files, popularity,block_numbers, l, c, s):\n",
    "    P = {}\n",
    "    IP = 0\n",
    "    Pred = {}\n",
    "    avg_popularity = find_average_popularity(popularity)\n",
    "    for f in set(accessed_files):\n",
    "        P[f] = [avg_popularity]\n",
    "        \n",
    "    for k in range(0, len(accessed_files)-1):\n",
    "        f = accessed_files[k]\n",
    "        i = len(P[f])-1\n",
    "        \n",
    "        if(i==0):\n",
    "            continue\n",
    "        \n",
    "        else:\n",
    "            a = find_access_interval(f,k,accessed_files)\n",
    "            b = find_block_number(f, block_numbers)\n",
    "            calc = P[f][i] + c / (a*b*l*P[f][i])\n",
    "            P[f].append(calc)\n",
    "            \n",
    "        if(P[f][i]<Pmin):\n",
    "            P[f][i] = Pmin \n",
    "            \n",
    "        if(P[f][i]>Pmax):\n",
    "            P[f][i] = Pmax \n",
    "            \n",
    "        IP = IP + P[f][i+1] - P[i][f]\n",
    "        \n",
    "    for f in deleted_files:\n",
    "        #avg = find_average_popularity(popularity)\n",
    "        IP = IP + avg_popularity - popularity[f]\n",
    "        del P[f]\n",
    "        del popularity[f]\n",
    "        del block_numbers[f]\n",
    "        \n",
    "    MIP = IP / len(P)\n",
    "    \n",
    "    for f in P:\n",
    "        i = len(P[f]) - 1\n",
    "        P[f][i] - P[f][i] - MIP/s\n",
    "        Pred[f] = P[f][i] + popularity[f]\n",
    "        popularity[f] = P[f][i]          \n",
    "        \n",
    "    return Pred\n",
    " \n",
    "#--------------------------HELPER FUNCTIONS-----------------------------        \n",
    "def find_average_popularity(popularity):\n",
    "    sum = 0\n",
    "    for f in popularity:\n",
    "        sum = sum + popularity[f]\n",
    "        \n",
    "    return sum/len(popularity)\n",
    "\n",
    "\n",
    "def find_access_interval(f,k,files):\n",
    "    key = accessed_files[k]\n",
    "    k -= 1\n",
    "    count  =  1\n",
    "    while(k>=0):\n",
    "        if(key==files[k]):\n",
    "            break\n",
    "        k -= 1\n",
    "        count += 1\n",
    "        \n",
    "    return count * rd.random()\n",
    "\n",
    "def find_block_numbers(f, block_number):\n",
    "    return block_number[f]"
   ]
  },
  {
   "cell_type": "markdown",
   "metadata": {},
   "source": [
    "### Simulation Functions"
   ]
  },
  {
   "cell_type": "code",
   "execution_count": 67,
   "metadata": {},
   "outputs": [],
   "source": [
    "def simulate_popularity(accessed_files, Pmin, Pmax):\n",
    "    p = {}\n",
    "    for f in set(accessed_files):\n",
    "        p[f] = rd.uniform(Pmin, Pmax)\n",
    "        \n",
    "    return p\n",
    "        \n",
    "        \n",
    "def simulate_block_number(accessed_files, Bmin, Bmax):\n",
    "    b = {}\n",
    "    for f in set(accessed_files):\n",
    "        b[f] = rd.randint(Bmin, Bmax)\n",
    "        \n",
    "    return b\n",
    "\n",
    "def simulate_deleted_files(accessed_files):\n",
    "    deleted = set()\n",
    "    files = list(set(accessed_files))\n",
    "    n = rd.randint(1, int(len(files)/3) + 1)\n",
    "    for i in range(0, n):\n",
    "        x = rd.choice(files)\n",
    "        deleted.add(x)\n",
    "        \n",
    "    return deleted  \n",
    "\n",
    "def simulate_accessed_files(number_of_files): \n",
    "    accessed_files = []\n",
    "    n = rd.randint(number_of_files+5, 2 * number_of_files)\n",
    "    for i in range(0, n):\n",
    "        accessed_files.append(rd.randint(1, number_of_files))\n",
    "        \n",
    "    return accessed_files"
   ]
  },
  {
   "cell_type": "markdown",
   "metadata": {},
   "source": [
    "### Printing functions"
   ]
  },
  {
   "cell_type": "code",
   "execution_count": 68,
   "metadata": {},
   "outputs": [],
   "source": [
    "def print_popularity(popularity, block_numbers):\n",
    "    print(\"Files \\t\\t Popularity \\t Number_of_blocks\")\n",
    "    print(\"-----------------------------------------------\")\n",
    "    for f in popularity:\n",
    "        print(\"file\", f, \":\\t\", round(popularity[f],3),\"\\t\\t\", block_numbers[f] )\n",
    "        \n",
    "        \n",
    "def print_predicted_popularity(pred):\n",
    "    print(\"Files \\t\\t Predicted_Popularity\")\n",
    "    print(\"------------------------------------\")\n",
    "    for f in pred:\n",
    "        print(\"file\", f, \":\\t\", round(pred[f],3))"
   ]
  },
  {
   "cell_type": "markdown",
   "metadata": {},
   "source": [
    "## SIMULATION"
   ]
  },
  {
   "cell_type": "code",
   "execution_count": 79,
   "metadata": {},
   "outputs": [
    {
     "name": "stdout",
     "output_type": "stream",
     "text": [
      "Files \t\t Popularity \t Number_of_blocks\n",
      "-----------------------------------------------\n",
      "file 1 :\t 0.328 \t\t 7\n",
      "file 3 :\t 0.548 \t\t 32\n",
      "file 4 :\t 0.557 \t\t 36\n",
      "file 5 :\t 0.218 \t\t 36\n",
      "file 7 :\t 0.105 \t\t 50\n",
      "file 9 :\t 0.17 \t\t 27\n",
      "\n",
      "Accessing files:  [3, 4, 9, 4, 3, 1, 1, 4, 1, 1, 9, 7, 4, 9, 4, 5, 5, 1]\n",
      "Deleting files:  [3]\n",
      "\n"
     ]
    },
    {
     "data": {
      "image/png": "[encoded data removed]",
      "text/plain": [
       "<Figure size 432x288 with 1 Axes>"
      ]
     },
     "metadata": {
      "needs_background": "light"
     },
     "output_type": "display_data"
    },
    {
     "data": {
      "image/png": "[encoded data removed]",
      "text/plain": [
       "<Figure size 432x288 with 1 Axes>"
      ]
     },
     "metadata": {
      "needs_background": "light"
     },
     "output_type": "display_data"
    }
   ],
   "source": [
    "Pmin = 0.1\n",
    "Pmax = 0.9\n",
    "accessed_files = simulate_accessed_files(9)\n",
    "popularity = simulate_popularity(accessed_files, Pmin, Pmax)\n",
    "Bmin = 1\n",
    "Bmax = 50\n",
    "block_numbers = simulate_block_number(accessed_files, Bmin, Bmax)\n",
    "c = 10000\n",
    "l = 9\n",
    "s = 5\n",
    "popularity_data = [[k,round(popularity[k],3), block_numbers[k]] for k in popularity ]\n",
    "\n",
    "print_popularity(popularity, block_numbers)\n",
    "print()\n",
    "print(\"Accessing files: \", accessed_files)\n",
    "deleted_files = list(simulate_deleted_files(accessed_files))\n",
    "print(\"Deleting files: \", deleted_files)\n",
    "print()\n",
    "\n",
    "# Showing the simulated result in graph\n",
    "# Bar graph of popularity\n",
    "popularity_df = pd.DataFrame(popularity_data, columns = ['File', 'Popularity', 'Block_numbers'])\n",
    "popularity_df.plot.bar(x=\"File\", y=\"Popularity\", color='#FFC300', rot=70, title=\"Popularity of Files\");\n",
    "plot.show(block=True)\n",
    "\n",
    "#Bar Graph of block numbers\n",
    "popularity_df.plot.bar(x=\"File\", y=\"Block_numbers\", color='#581845', rot=70, title=\"Number of blocks of file\");\n",
    "plot.show(block=True)"
   ]
  },
  {
   "cell_type": "markdown",
   "metadata": {},
   "source": [
    "### Predicting the popularity"
   ]
  },
  {
   "cell_type": "code",
   "execution_count": 80,
   "metadata": {},
   "outputs": [
    {
     "name": "stdout",
     "output_type": "stream",
     "text": [
      "\n",
      "Files \t\t Predicted_Popularity\n",
      "------------------------------------\n",
      "file 1 :\t 0.649\n",
      "file 4 :\t 0.878\n",
      "file 5 :\t 0.539\n",
      "file 7 :\t 0.426\n",
      "file 9 :\t 0.491\n"
     ]
    },
    {
     "data": {
      "image/png": "[encoded data removed]",
      "text/plain": [
       "<Figure size 432x288 with 1 Axes>"
      ]
     },
     "metadata": {
      "needs_background": "light"
     },
     "output_type": "display_data"
    }
   ],
   "source": [
    "pred = predict_popularity(accessed_files, deleted_files, popularity,block_numbers, l, c, s)\n",
    "print()\n",
    "print_predicted_popularity(pred) \n",
    "\n",
    "# showing the result in graph\n",
    "predicted_data  = [[k, round(pred[k],3)] for k in pred]\n",
    "predicted_df = pd.DataFrame(predicted_data, columns=['File', 'Predicted_Popularity'])\n",
    "predicted_df.plot.bar(x=\"File\", y=\"Predicted_Popularity\", color='g', rot=70, title=\"Predicted Popularity of file\");\n",
    "plot.show(block=True)"
   ]
  },
  {
   "cell_type": "code",
   "execution_count": null,
   "metadata": {},
   "outputs": [],
   "source": []
  }
 ],
 "metadata": {
  "kernelspec": {
   "display_name": "Python 3",
   "language": "python",
   "name": "python3"
  },
  "language_info": {
   "codemirror_mode": {
    "name": "ipython",
    "version": 3
   },
   "file_extension": ".py",
   "mimetype": "text/x-python",
   "name": "python",
   "nbconvert_exporter": "python",
   "pygments_lexer": "ipython3",
   "version": "3.8.3"
  }
 },
 "nbformat": 4,
 "nbformat_minor": 4
}
